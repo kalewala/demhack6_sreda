{
 "cells": [
  {
   "cell_type": "markdown",
   "id": "f546f53c",
   "metadata": {},
   "source": [
    "# 1 — Сбор ссылок на дела по номеру решения"
   ]
  },
  {
   "cell_type": "markdown",
   "id": "e42b37d2",
   "metadata": {},
   "source": [
    "В этой части работы реализуем поиск дел на сайте «ГАС Правосудие» по номерам решения из карточки блокировки Роскомсвободы. Сначала импортируем нужные библиотеки:"
   ]
  },
  {
   "cell_type": "code",
   "execution_count": null,
   "id": "be9ccd64",
   "metadata": {},
   "outputs": [],
   "source": [
    "from selenium import webdriver as wb\n",
    "from selenium.webdriver.common.by import By\n",
    "from selenium.webdriver.support.ui import WebDriverWait\n",
    "from selenium.webdriver.support import expected_conditions as EC\n",
    "from selenium.webdriver.common.action_chains import ActionChains\n",
    "from bs4 import BeautifulSoup\n",
    "import pandas as pd\n",
    "import time\n",
    "from math import ceil\n",
    "from tqdm import tqdm\n",
    "\n",
    "import warnings\n",
    "warnings.filterwarnings('ignore')"
   ]
  },
  {
   "cell_type": "markdown",
   "id": "e9c0b2b9",
   "metadata": {},
   "source": [
    "Загружаем данные с сайта Роскомсвободы. Нас интересуют столбцы: ```record_id, decisionNumber, authority```. Поиск на сайте «ГАС Правосудие» — по полю ```decisionNumber```"
   ]
  },
  {
   "cell_type": "code",
   "execution_count": null,
   "id": "07e12666",
   "metadata": {},
   "outputs": [],
   "source": [
    "data = pd.read_csv('data_chel.csv')"
   ]
  },
  {
   "cell_type": "code",
   "execution_count": null,
   "id": "e88ab1c5",
   "metadata": {},
   "outputs": [],
   "source": [
    "data"
   ]
  },
  {
   "cell_type": "markdown",
   "id": "20b031d4",
   "metadata": {},
   "source": [
    "Как работает поиск дела: по номеру решения из карточки блокировки Роскомсвободы и региону составляем поисковой запрос на сайте «ГАС Правосудие». Затем среди результатов поиска ищем дела, в которых совпадает либо только суд, либо и суд, и дата вынесения решения (есть не у всех дела на сайте, поэтому это не блокирующее условие): "
   ]
  },
  {
   "cell_type": "code",
   "execution_count": null,
   "id": "1bbb91b0",
   "metadata": {},
   "outputs": [],
   "source": [
    "def extract_info(row):\n",
    "    if row.text == 'Ничего не найдено':\n",
    "        return False\n",
    "    else: \n",
    "        court_gas = row.find(attrs = {\"data-comment\": \"Наименование суда\"}).text.replace('  ', ' ')\n",
    "        case_url = row.find('a', class_ = 'resultHeader openCardLink')['href']\n",
    "        category = row.find(attrs = {\"data-comment\": \"Статья или категория\"}).text\n",
    "        if row.find(attrs = {\"data-comment\": \"Дата решения\"}):\n",
    "            date_gas = row.find(attrs = {\"data-comment\": \"Дата решения\"}).text\n",
    "            if (court_gas.startswith(court)) and (date_gas == date):\n",
    "                return {'record_id': record_id, 'case': case, 'case_url': case_url, \n",
    "                        'court': court_gas, 'decisionDate': date_gas, 'category': category}\n",
    "            else:\n",
    "                return False\n",
    "        else:\n",
    "            date_gas = False\n",
    "            if court_gas.startswith(court):\n",
    "                return {'record_id': record_id, 'case': case, 'case_url': case_url, \n",
    "                        'court': court_gas, 'decisionDate': date_gas, 'category': category}\n",
    "            else:\n",
    "                return False"
   ]
  },
  {
   "cell_type": "code",
   "execution_count": null,
   "id": "c8ab10b1",
   "metadata": {},
   "outputs": [],
   "source": [
    "from selenium import webdriver\n",
    "from webdriver_manager.chrome import ChromeDriverManager\n",
    "\n",
    "driver = webdriver.Chrome(ChromeDriverManager().install())"
   ]
  },
  {
   "cell_type": "markdown",
   "id": "f34a1382",
   "metadata": {},
   "source": [
    "Код проходит по всем номерам решений из загруженного датасета и ищет нужные дела. Если нужное дело не находится на первых двух страницах выдачи или если поиск не дает результатов, решение пропускается."
   ]
  },
  {
   "cell_type": "code",
   "execution_count": null,
   "id": "88c5be28",
   "metadata": {},
   "outputs": [],
   "source": [
    "# Челябинская область\n",
    "df = pd.DataFrame()\n",
    "\n",
    "for record in tqdm(range(len(data))):\n",
    "    case = data.loc[record].decisionNumber\n",
    "    if pd.isna(case):\n",
    "        continue\n",
    "    record_id = data.loc[record].record_id\n",
    "    court = data.loc[record].authority_name\n",
    "    date = data.loc[record].decisionDate\n",
    "    link = f'https://bsr.sudrf.ru/bigs/portal.html#%7B%22type%22:%22MULTIQUERY%22,%22multiqueryRequest%22:%7B%22queryRequests%22:%5B%7B%22type%22:%22Q%22,%22request%22:%22%7B%5C%22mode%5C%22:%5C%22EXTENDED%5C%22,%5C%22typeRequests%5C%22:%5B%7B%5C%22fieldRequests%5C%22:%5B%7B%5C%22name%5C%22:%5C%22case_doc_subject_rf%5C%22,%5C%22operator%5C%22:%5C%22EX%5C%22,%5C%22query%5C%22:%5C%22%D0%A7%D0%B5%D0%BB%D1%8F%D0%B1%D0%B8%D0%BD%D1%81%D0%BA%D0%B0%D1%8F%20%D0%BE%D0%B1%D0%BB%D0%B0%D1%81%D1%82%D1%8C%5C%22,%5C%22fieldName%5C%22:%5C%22case_doc_subject_rf_cat%5C%22%7D,%7B%5C%22name%5C%22:%5C%22case_user_doc_number_cat%5C%22,%5C%22operator%5C%22:%5C%22SW%5C%22,%5C%22query%5C%22:%5C%222%D0%B0-{case}%5C%22,%5C%22fieldName%5C%22:%5C%22case_user_doc_number_cat%5C%22%7D%5D,%5C%22mode%5C%22:%5C%22AND%5C%22,%5C%22name%5C%22:%5C%22common%5C%22,%5C%22typesMode%5C%22:%5C%22AND%5C%22%7D%5D%7D%22,%22operator%22:%22AND%22,%22queryRequestRole%22:%22CATEGORIES%22%7D%5D%7D,%22sorts%22:%5B%7B%22field%22:%22score%22,%22order%22:%22desc%22%7D%5D,%22simpleSearchFieldsBundle%22:%22default%22,%22noOrpho%22:false%7D'\n",
    "    driver.get(link)\n",
    "    time.sleep(15)\n",
    "    page_html = driver.page_source\n",
    "    soup = BeautifulSoup(page_html, 'html.parser')\n",
    "    rows = soup.find_all('div', class_='bgs-result')\n",
    "    result_number = int(soup.find('div', class_= 'resultCount')['data-total'])\n",
    "    finds = 0\n",
    "    for row in rows[:-1]:\n",
    "        extract = extract_info(row)\n",
    "        if extract != False:\n",
    "            df = df.append(extract, ignore_index=True)\n",
    "            finds = 1\n",
    "    if (finds < 1) and (result_number > 10):\n",
    "        page = 10\n",
    "        new_link = f'https://bsr.sudrf.ru/bigs/portal.html#%7B%22type%22:%22MULTIQUERY%22,%22multiqueryRequest%22:%7B%22queryRequests%22:%5B%7B%22type%22:%22Q%22,%22request%22:%22%7B%5C%22mode%5C%22:%5C%22EXTENDED%5C%22,%5C%22typeRequests%5C%22:%5B%7B%5C%22fieldRequests%5C%22:%5B%7B%5C%22name%5C%22:%5C%22case_doc_subject_rf%5C%22,%5C%22operator%5C%22:%5C%22EX%5C%22,%5C%22query%5C%22:%5C%22%D0%A7%D0%B5%D0%BB%D1%8F%D0%B1%D0%B8%D0%BD%D1%81%D0%BA%D0%B0%D1%8F%20%D0%BE%D0%B1%D0%BB%D0%B0%D1%81%D1%82%D1%8C%5C%22,%5C%22fieldName%5C%22:%5C%22case_doc_subject_rf_cat%5C%22%7D,%7B%5C%22name%5C%22:%5C%22case_user_doc_number_cat%5C%22,%5C%22operator%5C%22:%5C%22SW%5C%22,%5C%22query%5C%22:%5C%222%D0%B0-{case}%5C%22,%5C%22fieldName%5C%22:%5C%22case_user_doc_number_cat%5C%22%7D%5D,%5C%22mode%5C%22:%5C%22AND%5C%22,%5C%22name%5C%22:%5C%22common%5C%22,%5C%22typesMode%5C%22:%5C%22AND%5C%22%7D%5D%7D%22,%22operator%22:%22AND%22,%22queryRequestRole%22:%22CATEGORIES%22%7D%5D%7D,%22sorts%22:%5B%7B%22field%22:%22score%22,%22order%22:%22desc%22%7D%5D,%22simpleSearchFieldsBundle%22:%22default%22,%22noOrpho%22:false,%22start%22:{page}%7D'\n",
    "        driver.get(new_link)\n",
    "        time.sleep(15)\n",
    "        page_html_new = driver.page_source\n",
    "        soup_new = BeautifulSoup(page_html_new, 'html.parser')\n",
    "        rows_new = soup_new.find_all('div', class_='bgs-result')\n",
    "        for row_new in rows_new[:-1]:\n",
    "            extract_new = extract_info(row_new)\n",
    "            if extract_new != False:\n",
    "                df = df.append(extract_new, ignore_index=True)"
   ]
  },
  {
   "cell_type": "code",
   "execution_count": null,
   "id": "4a852b58",
   "metadata": {},
   "outputs": [],
   "source": [
    "# Владимирская область\n",
    "df = pd.DataFrame()\n",
    "\n",
    "for record in tqdm(range(len(data))):\n",
    "    case = data.loc[record].decisionNumber\n",
    "    if pd.isna(case):\n",
    "        continue\n",
    "    record_id = data.loc[record].record_id\n",
    "    court = data.loc[record].authority_name\n",
    "    date = data.loc[record].decisionDate\n",
    "    link = f'https://bsr.sudrf.ru/bigs/portal.html#%7B%22type%22:%22MULTIQUERY%22,%22multiqueryRequest%22:%7B%22queryRequests%22:%5B%7B%22type%22:%22Q%22,%22request%22:%22%7B%5C%22mode%5C%22:%5C%22EXTENDED%5C%22,%5C%22typeRequests%5C%22:%5B%7B%5C%22fieldRequests%5C%22:%5B%7B%5C%22name%5C%22:%5C%22case_doc_subject_rf%5C%22,%5C%22operator%5C%22:%5C%22EX%5C%22,%5C%22query%5C%22:%5C%22%D0%B2%D0%BB%D0%B0%D0%B4%D0%B8%D0%BC%D0%B8%D1%80%D1%81%D0%BA%D0%B0%D1%8F%20%D0%BE%D0%B1%D0%BB%D0%B0%D1%81%D1%82%D1%8C%5C%22,%5C%22fieldName%5C%22:%5C%22case_doc_subject_rf_cat%5C%22%7D,%7B%5C%22name%5C%22:%5C%22case_user_doc_number_cat%5C%22,%5C%22operator%5C%22:%5C%22SW%5C%22,%5C%22query%5C%22:%5C%222%D0%B0-{case}%5C%22,%5C%22fieldName%5C%22:%5C%22case_user_doc_number_cat%5C%22%7D%5D,%5C%22mode%5C%22:%5C%22AND%5C%22,%5C%22name%5C%22:%5C%22common%5C%22,%5C%22typesMode%5C%22:%5C%22AND%5C%22%7D%5D%7D%22,%22operator%22:%22AND%22,%22queryRequestRole%22:%22CATEGORIES%22%7D%5D%7D,%22sorts%22:%5B%7B%22field%22:%22score%22,%22order%22:%22desc%22%7D%5D,%22simpleSearchFieldsBundle%22:%22default%22,%22noOrpho%22:false%7D'\n",
    "    driver.get(link)\n",
    "    time.sleep(15)\n",
    "    page_html = driver.page_source\n",
    "    soup = BeautifulSoup(page_html, 'html.parser')\n",
    "    rows = soup.find_all('div', class_='bgs-result')\n",
    "    result_number = int(soup.find('div', class_= 'resultCount')['data-total'])\n",
    "    finds = 0\n",
    "    for row in rows[:-1]:\n",
    "        extract = extract_info(row)\n",
    "        if extract != False:\n",
    "            df = df.append(extract, ignore_index=True)\n",
    "            finds = 1\n",
    "    if (finds < 1) and (result_number > 10):\n",
    "        page = 10\n",
    "        new_link = f'https://bsr.sudrf.ru/bigs/portal.html#%7B%22type%22:%22MULTIQUERY%22,%22multiqueryRequest%22:%7B%22queryRequests%22:%5B%7B%22type%22:%22Q%22,%22request%22:%22%7B%5C%22mode%5C%22:%5C%22EXTENDED%5C%22,%5C%22typeRequests%5C%22:%5B%7B%5C%22fieldRequests%5C%22:%5B%7B%5C%22name%5C%22:%5C%22case_doc_subject_rf%5C%22,%5C%22operator%5C%22:%5C%22EX%5C%22,%5C%22query%5C%22:%5C%22%D0%B2%D0%BB%D0%B0%D0%B4%D0%B8%D0%BC%D0%B8%D1%80%D1%81%D0%BA%D0%B0%D1%8F%20%D0%BE%D0%B1%D0%BB%D0%B0%D1%81%D1%82%D1%8C%5C%22,%5C%22fieldName%5C%22:%5C%22case_doc_subject_rf_cat%5C%22%7D,%7B%5C%22name%5C%22:%5C%22case_user_doc_number_cat%5C%22,%5C%22operator%5C%22:%5C%22SW%5C%22,%5C%22query%5C%22:%5C%222%D0%B0-{case}%5C%22,%5C%22fieldName%5C%22:%5C%22case_user_doc_number_cat%5C%22%7D%5D,%5C%22mode%5C%22:%5C%22AND%5C%22,%5C%22name%5C%22:%5C%22common%5C%22,%5C%22typesMode%5C%22:%5C%22AND%5C%22%7D%5D%7D%22,%22operator%22:%22AND%22,%22queryRequestRole%22:%22CATEGORIES%22%7D%5D%7D,%22sorts%22:%5B%7B%22field%22:%22score%22,%22order%22:%22desc%22%7D%5D,%22simpleSearchFieldsBundle%22:%22default%22,%22noOrpho%22:false,%22start%22:{page}%7D'\n",
    "        driver.get(new_link)\n",
    "        time.sleep(15)\n",
    "        page_html_new = driver.page_source\n",
    "        soup_new = BeautifulSoup(page_html_new, 'html.parser')\n",
    "        rows_new = soup_new.find_all('div', class_='bgs-result')\n",
    "        for row_new in rows_new[:-1]:\n",
    "            extract_new = extract_info(row_new)\n",
    "            if extract_new != False:\n",
    "                df = df.append(extract_new, ignore_index=True)"
   ]
  },
  {
   "cell_type": "markdown",
   "id": "6c1d7311",
   "metadata": {},
   "source": [
    "Результат работы этого кода — промежуточный. В таблице есть ссылка на дело с полной информацией и данные из превью поиска. Тексты решений получаются на следующем этапе работы."
   ]
  },
  {
   "cell_type": "code",
   "execution_count": null,
   "id": "fb6cea62",
   "metadata": {},
   "outputs": [],
   "source": [
    "df.to_csv('vladimir_pol_blocks_links.csv', index=False)"
   ]
  },
  {
   "cell_type": "markdown",
   "id": "8116a7b6",
   "metadata": {},
   "source": [
    "# 2 — Сбор текстов решений суда"
   ]
  },
  {
   "cell_type": "markdown",
   "id": "2074c5b3",
   "metadata": {},
   "source": [
    "Во второй части работы с помощью ссылок, собранных на предыдущем шаге, собираем текстовые решения и другую информацию по делу: ФИО судьи, категорию дела, регион и т.д."
   ]
  },
  {
   "cell_type": "markdown",
   "id": "d5211417",
   "metadata": {},
   "source": [
    "Импортируем датасет из предыдущего шага: "
   ]
  },
  {
   "cell_type": "code",
   "execution_count": null,
   "id": "ebae1f16",
   "metadata": {},
   "outputs": [],
   "source": [
    "data = pd.read_csv('vladimir_pol_blocks_links.csv')"
   ]
  },
  {
   "cell_type": "code",
   "execution_count": null,
   "id": "19dd454e",
   "metadata": {},
   "outputs": [],
   "source": [
    "data.head(10)"
   ]
  },
  {
   "cell_type": "markdown",
   "id": "787c535c",
   "metadata": {},
   "source": [
    "Функция, которая собирает из карточки дела нужною информацию: "
   ]
  },
  {
   "cell_type": "code",
   "execution_count": null,
   "id": "60a3bc87",
   "metadata": {},
   "outputs": [],
   "source": [
    "def extract_info(test_soup):\n",
    "    info = test_soup.find('div', {'id': 'bookmark0'})\n",
    "    cells = info.find_all('span', class_='one-value')\n",
    "    case_number = cells[0].text\n",
    "    unique_identifier = cells[1].text\n",
    "    case_type = cells[2].text\n",
    "    instance = cells[3].text\n",
    "    category = cells[4].text\n",
    "    region = cells[5].text\n",
    "    result = cells[6].text\n",
    "    court_first_instance = cells[7].text\n",
    "    link_to_source = cells[8].text\n",
    "    judical_system = info.find_all('a', class_='paramLink one-value')\n",
    "    judge = judical_system[1].text\n",
    "    members = info.find_all('td', class_='one-table-value')\n",
    "    if len(members) == 3:\n",
    "        plaintiff = members[1].text\n",
    "        interested_party = members[3].text\n",
    "    else:\n",
    "        plaintiff = ''\n",
    "        interested_party = ''\n",
    "    all_text = ''\n",
    "    if driver.find_elements(By.TAG_NAME, 'iframe'):\n",
    "        iframe = driver.find_elements(By.TAG_NAME, 'iframe')[0]\n",
    "        driver.switch_to.frame(iframe)\n",
    "        page_html_iframe = driver.page_source\n",
    "        soup = BeautifulSoup(page_html_iframe, 'html.parser')\n",
    "        texts = soup.find_all('p')\n",
    "        for text in texts:\n",
    "            all_text = all_text + ' ' + text.text\n",
    "    return {'record_id': record_id, 'case_number':case_number, 'unique_identifier':unique_identifier, \n",
    "            'case_type':case_type, 'instance':instance, 'category':category, 'region':region, 'result':result, \n",
    "            'court_first_instance':court_first_instance, 'link_to_source':link_to_source, 'judge':judge, \n",
    "            'plaintiff':plaintiff, 'interested_party':interested_party, 'text':all_text}"
   ]
  },
  {
   "cell_type": "code",
   "execution_count": null,
   "id": "52616254",
   "metadata": {},
   "outputs": [],
   "source": [
    "from selenium import webdriver\n",
    "from webdriver_manager.chrome import ChromeDriverManager\n",
    "\n",
    "driver = webdriver.Chrome(ChromeDriverManager().install())"
   ]
  },
  {
   "cell_type": "code",
   "execution_count": null,
   "id": "682a88ef",
   "metadata": {},
   "outputs": [],
   "source": [
    "df = pd.DataFrame()\n",
    "for i in tqdm(range(len(data))):\n",
    "    record_id = data.loc[i].record_id\n",
    "    link = data.loc[i].case_url\n",
    "    driver.get(link)\n",
    "    driver.get(link)\n",
    "    time.sleep(15)\n",
    "    page_html = driver.page_source\n",
    "    soup = BeautifulSoup(page_html, 'html.parser')\n",
    "    row = extract_info(soup)\n",
    "    df = df.append(row, ignore_index=True)"
   ]
  },
  {
   "cell_type": "markdown",
   "id": "f529967d",
   "metadata": {},
   "source": [
    "Результат работы этого кода — датасет с номерами дел и полной информацией по ним, в том числе с текстовыми решениями, если они были в карточке дела."
   ]
  },
  {
   "cell_type": "code",
   "execution_count": null,
   "id": "b9a2d100",
   "metadata": {},
   "outputs": [],
   "source": [
    "df.to_csv('vladimir_pol_blocks_texts.csv', encoding='utf-8-sig', index=False)"
   ]
  }
 ],
 "metadata": {
  "kernelspec": {
   "display_name": "Python 3 (ipykernel)",
   "language": "python",
   "name": "python3"
  },
  "language_info": {
   "codemirror_mode": {
    "name": "ipython",
    "version": 3
   },
   "file_extension": ".py",
   "mimetype": "text/x-python",
   "name": "python",
   "nbconvert_exporter": "python",
   "pygments_lexer": "ipython3",
   "version": "3.10.9"
  }
 },
 "nbformat": 4,
 "nbformat_minor": 5
}
